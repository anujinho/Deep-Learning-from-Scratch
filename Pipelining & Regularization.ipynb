{
 "cells": [
  {
   "cell_type": "markdown",
   "metadata": {
    "id": "ssLI7a7GKzgB"
   },
   "source": [
    "# CS4240 Deep Learning - Assignment 4\n",
    "\n",
    "*These lab assignments are new in the CS4240 Deep Learning course. We'd like to hear what you think!*\n",
    "\n",
    "*Please post any feedback you have on [Brightspace](https://brightspace.tudelft.nl/d2l/le/280420/discussions/topics/48829/View). Thanks!*"
   ]
  },
  {
   "cell_type": "markdown",
   "metadata": {
    "id": "OL148V_8rxq5"
   },
   "source": [
    "To start working on the assignment in Colab, save a copy on your Google Drive (`File` $\\rightarrow$ `Save a copy in Drive`).\n",
    "\n",
    "To work on the assignments locally, configure your conda environment (see instructions on Brightspace) and download this assignment as an IPython Notebook (`File` $\\rightarrow$ `Download .ipynb`)."
   ]
  },
  {
   "cell_type": "markdown",
   "metadata": {
    "id": "bdx7o5N2S2Tn"
   },
   "source": [
    "## Introduction\n",
    "\n",
    "In this assignment you will learn about overfitting and how to use different regularization methods to make your model generalize better to new data. We will perform experiments on the MNIST-1D dataset and learn how to monitor and visualize the results using Tensorboard.\n",
    "\n",
    "**Prerequisites:**\n",
    "* Completion of previous assignments (1-3).\n",
    "* Basic knowledge of Python and Numpy. </br> Recommended tutorial for Python and Numpy [here](https://cs231n.github.io/python-numpy-tutorial/).\n",
    "* We recommend you to have a look at [this excellent tutorial on PyTorch Tensors](https://pytorch.org/tutorials/beginner/blitz/tensor_tutorial.html#sphx-glr-beginner-blitz-tensor-tutorial-py).\n",
    "\n",
    "**Learning objectives:**\n",
    "* Understanding the concept of overfitting;\n",
    "* Using Tensorboard to monitor experiments;\n",
    "* Understanding, implementing and using L2 regularization;\n",
    "* Understanding and implementing using early stopping;\n",
    "* Understanding and using dropout.\n",
    "\n",
    "---\n",
    "\n",
    "When answering coding questions make sure to write your own code within the designated part of the code block as illustrated here:\n",
    "```python \n",
    "#############################################################################\n",
    "#                       TODO: Implement function x                          #\n",
    "#############################################################################\n",
    "# Replace \"pass\" statement with your code\n",
    "pass\n",
    "#############################################################################\n",
    "#                            END OF YOUR CODE                               #\n",
    "#############################################################################\n",
    "```"
   ]
  },
  {
   "cell_type": "code",
   "execution_count": 2,
   "metadata": {
    "ExecuteTime": {
     "end_time": "2021-02-20T22:04:53.549130Z",
     "start_time": "2021-02-20T22:04:50.937984Z"
    },
    "id": "gIvAOzFjhtw6"
   },
   "outputs": [],
   "source": [
    "# Setup\n",
    "import torch\n",
    "import torch.nn as nn\n",
    "import torch.nn.functional as F\n",
    "import torch.optim as optim\n",
    "from torch.utils.data import TensorDataset, DataLoader\n",
    "from torch.utils.tensorboard import SummaryWriter\n",
    "from torchvision import datasets, transforms\n",
    "\n",
    "from torchsummary import summary\n",
    "from tqdm import tqdm\n",
    "import numpy as np\n",
    "import matplotlib.pyplot as plt\n",
    "\n",
    "\n",
    "#Additional Setup for MNIST-1D\n",
    "#!git clone https://github.com/greydanus/mnist1d\n",
    "import mnist1d\n",
    "from mnist1d.data import get_templates, get_dataset_args, get_dataset\n",
    "from mnist1d.utils import set_seed, plot_signals, ObjectView, from_pickle\n",
    "\n",
    "#Additional Setup to use Tensorboard\n",
    "#!pip install -q tensorflow\n",
    "%load_ext tensorboard"
   ]
  },
  {
   "cell_type": "code",
   "execution_count": 1,
   "metadata": {
    "ExecuteTime": {
     "end_time": "2021-02-20T22:04:46.091126Z",
     "start_time": "2021-02-20T22:04:46.082316Z"
    }
   },
   "outputs": [],
   "source": [
    "import os\n",
    "os.environ['KMP_DUPLICATE_LIB_OK']='True'"
   ]
  },
  {
   "cell_type": "markdown",
   "metadata": {
    "id": "7YX7M-1siKSl"
   },
   "source": [
    "## A4.1 MNIST-1D\n",
    "As you may have seen in previous assignments even a simple neural network can easily reach high accuracies on the MNIST dataset. To better see the effect of overfitting and different regularization techniques we will be using the MNIST-1D dataset from here on. Moreover, MNIST-1D is very lightweight and can be easily trained without a GPU. You can find more information on MNIST-1D [here](https://greydanus.github.io/2020/12/01/scaling-down/).\n",
    "\n",
    "Unlike regular MNIST, which consists of two-dimensional grayscale images, MNIST-1D contains one-dimensional waveforms which are automatically generated from a set of 10 templates. Run the following cell to get an overview of the different labels and the corresponding 1D waveform templates in MNIST-1D."
   ]
  },
  {
   "cell_type": "code",
   "execution_count": 3,
   "metadata": {
    "ExecuteTime": {
     "end_time": "2021-02-20T22:04:57.402330Z",
     "start_time": "2021-02-20T22:04:56.759030Z"
    },
    "id": "SKyoycOgTAVL"
   },
   "outputs": [
    {
     "name": "stdout",
     "output_type": "stream",
     "text": [
      "Templates for the MNIST-1D dataset:\n"
     ]
    },
    {
     "data": {
      "image/png": "[encoded data removed]",
      "text/plain": [
       "<Figure size 900x119.7 with 10 Axes>"
      ]
     },
     "metadata": {},
     "output_type": "display_data"
    }
   ],
   "source": [
    "#Get templates of numbers in the dataset\n",
    "templates = get_templates()\n",
    "\n",
    "#Plot the different templates\n",
    "print(\"Templates for the MNIST-1D dataset:\")\n",
    "fig = plot_signals(templates['x'], templates['t'], labels=templates['y'], ratio=1.33, dark_mode=False)"
   ]
  },
  {
   "cell_type": "markdown",
   "metadata": {
    "id": "JPkX8h2Fiuml"
   },
   "source": [
    "We will now load and preprocess the dataset, and display a sample for each of the 10 classes. To understand how the MNIST-1D shapes have been generated from the templates you can take a look at [this](https://greydanus.github.io/assets/scaling-down/construction.mp4) video."
   ]
  },
  {
   "cell_type": "code",
   "execution_count": 4,
   "metadata": {
    "ExecuteTime": {
     "end_time": "2021-02-20T22:05:21.066673Z",
     "start_time": "2021-02-20T22:05:15.095608Z"
    },
    "id": "bBB_2cn5bX8k"
   },
   "outputs": [
    {
     "name": "stdout",
     "output_type": "stream",
     "text": [
      "Did or could not load data from ./mnist1d_data.pkl. Rebuilding dataset...\n"
     ]
    },
    {
     "data": {
      "image/png": "[encoded data removed]",
      "text/plain": [
       "<Figure size 900x198 with 10 Axes>"
      ]
     },
     "metadata": {},
     "output_type": "display_data"
    }
   ],
   "source": [
    "# Load dataset\n",
    "data = get_dataset(get_dataset_args(), path='./mnist1d_data.pkl',\n",
    "                   download=False, regenerate=True)\n",
    "\n",
    "# Set the batch size for training & testing\n",
    "b_size = 100\n",
    "\n",
    "# Convert 1D MNIST data to pytorch tensors\n",
    "tensors_train = torch.Tensor(data['x']), torch.Tensor(data['y']).long()\n",
    "tensors_test = torch.Tensor(data['x_test']),torch.Tensor(data['y_test']).long()\n",
    "\n",
    "# Create training set and test set from tensors\n",
    "train_set = TensorDataset(*tensors_train)\n",
    "test_set = TensorDataset(*tensors_test)\n",
    "\n",
    "# Create dataloaders from the training and test set for easier iteration over the data\n",
    "train_loader = DataLoader(train_set, batch_size=b_size)\n",
    "test_loader = DataLoader(test_set, batch_size=b_size)\n",
    "\n",
    "# Get some data and check for dimensions\n",
    "input,label = next(iter(train_loader))\n",
    "\n",
    "# Check whether the data has the right dimensions\n",
    "assert(input.shape == torch.Size([b_size, 40]))\n",
    "assert(label.shape == torch.Size([b_size]))\n",
    "\n",
    "# Display samples from dataset\n",
    "fig = plot_signals(templates['x'], templates['t'], labels=templates['y'],\n",
    "                   args=get_dataset_args(), ratio=2.2, do_transform=True)"
   ]
  },
  {
   "cell_type": "markdown",
   "metadata": {
    "id": "7ihH5jIWGQxg"
   },
   "source": [
    "Let us now train a simple (but rather large) fully connected network to classify the MNIST-1D samples. The network is defined as follows:"
   ]
  },
  {
   "cell_type": "code",
   "execution_count": 5,
   "metadata": {
    "ExecuteTime": {
     "end_time": "2021-02-20T22:05:47.421603Z",
     "start_time": "2021-02-20T22:05:47.301270Z"
    },
    "id": "FVCzc80Tx-3o"
   },
   "outputs": [
    {
     "name": "stdout",
     "output_type": "stream",
     "text": [
      "==========================================================================================\n",
      "Layer (type:depth-idx)                   Output Shape              Param #\n",
      "==========================================================================================\n",
      "├─Linear: 1-1                            [-1, 500]                 20,500\n",
      "├─Linear: 1-2                            [-1, 500]                 250,500\n",
      "├─Linear: 1-3                            [-1, 500]                 250,500\n",
      "├─Linear: 1-4                            [-1, 500]                 250,500\n",
      "├─Linear: 1-5                            [-1, 500]                 250,500\n",
      "├─Linear: 1-6                            [-1, 10]                  5,010\n",
      "==========================================================================================\n",
      "Total params: 1,027,510\n",
      "Trainable params: 1,027,510\n",
      "Non-trainable params: 0\n",
      "Total mult-adds (M): 1.02\n",
      "==========================================================================================\n",
      "Input size (MB): 0.00\n",
      "Forward/backward pass size (MB): 0.02\n",
      "Params size (MB): 3.92\n",
      "Estimated Total Size (MB): 3.94\n",
      "==========================================================================================\n"
     ]
    },
    {
     "data": {
      "text/plain": [
       "==========================================================================================\n",
       "Layer (type:depth-idx)                   Output Shape              Param #\n",
       "==========================================================================================\n",
       "├─Linear: 1-1                            [-1, 500]                 20,500\n",
       "├─Linear: 1-2                            [-1, 500]                 250,500\n",
       "├─Linear: 1-3                            [-1, 500]                 250,500\n",
       "├─Linear: 1-4                            [-1, 500]                 250,500\n",
       "├─Linear: 1-5                            [-1, 500]                 250,500\n",
       "├─Linear: 1-6                            [-1, 10]                  5,010\n",
       "==========================================================================================\n",
       "Total params: 1,027,510\n",
       "Trainable params: 1,027,510\n",
       "Non-trainable params: 0\n",
       "Total mult-adds (M): 1.02\n",
       "==========================================================================================\n",
       "Input size (MB): 0.00\n",
       "Forward/backward pass size (MB): 0.02\n",
       "Params size (MB): 3.92\n",
       "Estimated Total Size (MB): 3.94\n",
       "=========================================================================================="
      ]
     },
     "execution_count": 5,
     "metadata": {},
     "output_type": "execute_result"
    }
   ],
   "source": [
    "class FCNet(nn.Module):\n",
    "    \"\"\"\n",
    "    Simple fully connected neural network with residual connections in PyTorch.\n",
    "    Layers are defined in __init__ and forward pass implemented in forward.\n",
    "    \"\"\"\n",
    "    \n",
    "    def __init__(self):\n",
    "        super(FCNet, self).__init__()\n",
    "\n",
    "        self.fc1 = nn.Linear(40, 500)\n",
    "        self.fc2 = nn.Linear(500, 500)\n",
    "        self.fc3 = nn.Linear(500, 500)\n",
    "        self.fc4 = nn.Linear(500, 500)\n",
    "        self.fc5 = nn.Linear(500, 500)\n",
    "        self.fc6 = nn.Linear(500, 10)\n",
    "\n",
    "    def forward(self, x):\n",
    "        h = F.relu(self.fc1(x))\n",
    "        h = h + F.relu(self.fc2(h))\n",
    "        h = h + F.relu(self.fc3(h))\n",
    "        h = h + F.relu(self.fc4(h))\n",
    "        h = h + F.relu(self.fc5(h))\n",
    "        return self.fc6(h)\n",
    "\n",
    "# Print network architecture using torchsummary\n",
    "summary(FCNet(), (40,), device='cpu')"
   ]
  },
  {
   "cell_type": "markdown",
   "metadata": {
    "id": "S3RAFMvRM6Je"
   },
   "source": [
    "It is a good common practice to define separate functions for the training and validation steps inside an epoch. These functions are then called once per epoch during training, which significantly cleans up the code for the training loop."
   ]
  },
  {
   "cell_type": "code",
   "execution_count": 6,
   "metadata": {
    "ExecuteTime": {
     "end_time": "2021-02-20T22:15:22.037133Z",
     "start_time": "2021-02-20T22:15:22.019628Z"
    },
    "id": "4PGWLMmodNjC"
   },
   "outputs": [],
   "source": [
    "def train(train_loader, net, optimizer, criterion):\n",
    "    \"\"\"\n",
    "    Trains network for one epoch in batches.\n",
    "\n",
    "    Args:\n",
    "        train_loader: Data loader for training set.\n",
    "        net: Neural network model.\n",
    "        optimizer: Optimizer (e.g. SGD).\n",
    "        criterion: Loss function (e.g. cross-entropy loss).\n",
    "    \"\"\"\n",
    "  \n",
    "    avg_loss = 0\n",
    "    correct = 0\n",
    "    total = 0\n",
    "\n",
    "    # iterate through batches\n",
    "    for i, data in enumerate(train_loader):\n",
    "        # get the inputs; data is a list of [inputs, labels]\n",
    "        inputs, labels = data\n",
    "\n",
    "        # zero the parameter gradients\n",
    "        optimizer.zero_grad()\n",
    "\n",
    "        # forward + backward + optimize\n",
    "        outputs = net(inputs)\n",
    "        loss = criterion(outputs, labels)\n",
    "        loss.backward()\n",
    "        optimizer.step()\n",
    "\n",
    "        # keep track of loss and accuracy\n",
    "        avg_loss += loss\n",
    "        _, predicted = torch.max(outputs.data, 1)\n",
    "        total += labels.size(0)\n",
    "        correct += (predicted == labels).sum().item()\n",
    "\n",
    "    return avg_loss/len(train_loader), 100 * correct / total\n",
    "        \n",
    "def test(test_loader, net, criterion):\n",
    "    \"\"\"\n",
    "    Evaluates network in batches.\n",
    "\n",
    "    Args:\n",
    "        test_loader: Data loader for test set.\n",
    "        net: Neural network model.\n",
    "        criterion: Loss function (e.g. cross-entropy loss).\n",
    "    \"\"\"\n",
    "\n",
    "    avg_loss = 0\n",
    "    correct = 0\n",
    "    total = 0\n",
    "    \n",
    "    # Use torch.no_grad to skip gradient calculation, not needed for evaluation\n",
    "    with torch.no_grad():\n",
    "        # iterate through batches\n",
    "        for data in test_loader:\n",
    "            # get the inputs; data is a list of [inputs, labels]\n",
    "            inputs, labels = data\n",
    "\n",
    "            # forward pass\n",
    "            outputs = net(inputs)\n",
    "            loss = criterion(outputs, labels)\n",
    "\n",
    "            # keep track of loss and accuracy\n",
    "            avg_loss += loss\n",
    "            _, predicted = torch.max(outputs.data, 1)\n",
    "            total += labels.size(0)\n",
    "            correct += (predicted == labels).sum().item()\n",
    "\n",
    "    return avg_loss/len(test_loader), 100 * correct / total"
   ]
  },
  {
   "cell_type": "markdown",
   "metadata": {
    "id": "N_-cpXWsL2GP"
   },
   "source": [
    "Tensorboard is a very powerfull visualization tool. In the following exercise you will use it to log and visualize the training curves of your network.\n",
    "\n",
    "The following cell will train your network for 100 epochs and write the results per epoch to tensorboard. (This might take a few seconds.)"
   ]
  },
  {
   "cell_type": "code",
   "execution_count": 7,
   "metadata": {
    "ExecuteTime": {
     "end_time": "2021-02-20T22:20:35.235751Z",
     "start_time": "2021-02-20T22:19:12.898667Z"
    },
    "id": "xFfjWk8_g5QH"
   },
   "outputs": [
    {
     "name": "stderr",
     "output_type": "stream",
     "text": [
      "100%|███████████████████████████████████████████████████████████████████████████████████████████████| 100/100 [01:11<00:00,  1.39it/s]"
     ]
    },
    {
     "name": "stdout",
     "output_type": "stream",
     "text": [
      "Finished Training\n"
     ]
    },
    {
     "name": "stderr",
     "output_type": "stream",
     "text": [
      "\n"
     ]
    }
   ],
   "source": [
    "# Create a writer to write to Tensorboard\n",
    "writer = SummaryWriter()\n",
    "\n",
    "# Set the number of epochs to for training\n",
    "epochs = 100\n",
    "\n",
    "# Create instance of Network\n",
    "net = FCNet()\n",
    "\n",
    "# Create loss function and optimizer\n",
    "criterion = nn.CrossEntropyLoss()\n",
    "optimizer = optim.SGD(net.parameters(), lr=5e-1)\n",
    "\n",
    "for epoch in tqdm(range(epochs)):  # loop over the dataset multiple times\n",
    "    # Train on data\n",
    "    train_loss, train_acc = train(train_loader,net,optimizer,criterion)\n",
    "\n",
    "    # Test on data\n",
    "    test_loss, test_acc = test(test_loader,net,criterion)\n",
    "\n",
    "    # Write metrics to Tensorboard\n",
    "    writer.add_scalars(\"Loss\", {'Train': train_loss, 'Test':test_loss}, epoch)            \n",
    "    writer.add_scalars('Accuracy', {'Train': train_acc,'Test':test_acc} , epoch)\n",
    "\n",
    "\n",
    "print('Finished Training')\n",
    "writer.flush()\n",
    "writer.close()\n"
   ]
  },
  {
   "cell_type": "markdown",
   "metadata": {
    "id": "rRxZDo6UNPes"
   },
   "source": [
    "Now that the training is done successfully you can view the training curves of your network in tensorboard. It might take a few seconds until it is loaded.\n",
    "\n",
    "If you later run another experiment and want to also see those results click the refresh icon in the top right corner. ![image.png](data:image/png;base64,iVBORw0KGgoAAAANSUhEUgAAABwAAAAaCAYAAACkVDyJAAABOElEQVRIDe2UsQ3CMBBFMwIjMAIbsBglJRI0dEgwCg2UwAZQQQkNpIgSox/pRx+Ls2OEIgosRXe2z/fy7bOz+yhzXX5ZlzCwfhf4mPRdsZm68rx3bPAxhjndqWK3eunrXCuFxXZGhmkBRmLA0BSifhRYXg4NBMny+aBJBp8ABFX5tYlViPpBIJVV+e0FpAngA+w3P4Z9E4hzYVNVXKhWVXKNzqtvAqkOVhf4/jsYoH4c+yaQZxdSZ8E+Asa2hn+cak2FnQPbbGmqOsSbCtsWjUJ5pqFCM4Ep1wJQvYv+U6c/ZQIRRJV4QULVijm+MiF1yBkEIoBniSIqdssG/Bj3XL4Y1mMssPK4Nu8fVUaBqpSJ39mYsiQggnEuSKqKq+upHgudGUG0rRQy+Bv2D4xWXeo2/7f061v6BP5uhjxw+N1/AAAAAElFTkSuQmCC)"
   ]
  },
  {
   "cell_type": "code",
   "execution_count": 9,
   "metadata": {
    "ExecuteTime": {
     "end_time": "2021-02-20T22:26:00.889256Z",
     "start_time": "2021-02-20T22:26:00.871578Z"
    },
    "id": "Hny0DB6T0izu",
    "scrolled": false
   },
   "outputs": [
    {
     "data": {
      "text/plain": [
       "Reusing TensorBoard on port 6006 (pid 20024), started 0:05:01 ago. (Use '!kill 20024' to kill it.)"
      ]
     },
     "metadata": {},
     "output_type": "display_data"
    },
    {
     "data": {
      "text/html": [
       "\n",
       "      <iframe id=\"tensorboard-frame-bc38a63d7faf21c0\" width=\"100%\" height=\"800\" frameborder=\"0\">\n",
       "      </iframe>\n",
       "      <script>\n",
       "        (function() {\n",
       "          const frame = document.getElementById(\"tensorboard-frame-bc38a63d7faf21c0\");\n",
       "          const url = new URL(\"/\", window.location);\n",
       "          const port = 6006;\n",
       "          if (port) {\n",
       "            url.port = port;\n",
       "          }\n",
       "          frame.src = url;\n",
       "        })();\n",
       "      </script>\n",
       "    "
      ],
      "text/plain": [
       "<IPython.core.display.HTML object>"
      ]
     },
     "metadata": {},
     "output_type": "display_data"
    }
   ],
   "source": [
    "# Open Tensorboard\n",
    "%tensorboard --logdir runs/"
   ]
  },
  {
   "cell_type": "code",
   "execution_count": null,
   "metadata": {
    "id": "hmTLz3IIAYgi"
   },
   "outputs": [],
   "source": [
    "# For local users only\n",
    "# Uncomment the last line\n",
    "# run this cell once and wait for it to time out\n",
    "# run this cell a second time and you should see the board\n",
    "\n",
    "# %tensorboard --logdir runs/ --host localhost"
   ]
  },
  {
   "cell_type": "code",
   "execution_count": null,
   "metadata": {
    "id": "W54Z3fyU6FZG"
   },
   "outputs": [],
   "source": [
    "# To completely clean your tensorboard uncomment and run the following command.\n",
    "# !rm -r runs"
   ]
  },
  {
   "cell_type": "markdown",
   "metadata": {
    "id": "NIrjwEokf8rs"
   },
   "source": [
    "Check the accuracy and loss plot for your network. Why is the training accuracy so much higher than the test accuracy? And why do we see the opposite for the losses? Why do we need separate training and test sets at all?\n",
    "\n",
    "All this has to do with overfitting."
   ]
  },
  {
   "cell_type": "markdown",
   "metadata": {
    "id": "1MClpdNxjNIO"
   },
   "source": [
    "## A4.2 Overfitting and the learning curve\n",
    "\n",
    "<img src=\"https://upload.wikimedia.org/wikipedia/commons/thumb/1/19/Overfitting.svg/1024px-Overfitting.svg.png\" alt=\"drawing\" width=\"200\" align=\"right\" />\n",
    "\n",
    "Neural networks are large and powerful function approximators. Our model with 1,027,510 (!) trainable parameters can easily learn a decision boundary for our dataset of merely 4,000 samples. But does that mean that our model will also correctly classify data samples it has not seen before? In other words, does our model generalize to unseen data?\n",
    "\n",
    "A common practice is to divide a dataset into two different splits: a training set used to update the model parameters, and a test set which is only used to evaluate the model performance. The training curves in Tensorboard show that although our model is able to classify all training samples with 100% accuracy, on the test set it has a rather disappointing accuracy of only ~73%. This phenomenon is called **overfitting** and is illustrated in the image on the right: the green decision boundary is completely overfitted on the training samples, whereas the black decision boundary does not classify all training samples correctly but probably far more accurately models the true distribution of the data.\n",
    "\n",
    "A lot of factors influence the extent to which a model overfits to dataset - most importantly the size of the training set. The less samples a model can learn from, the more difficult it is to learn the true distribution of the data and the more the model will overfit. A **learning curve** shows the test accuracy or test loss of a model with respect to the number of training samples. The following code block will train the model using a varying number of samples and plot the learning curve. This can take a few minutes."
   ]
  },
  {
   "cell_type": "code",
   "execution_count": 10,
   "metadata": {
    "ExecuteTime": {
     "end_time": "2021-02-20T22:36:01.613486Z",
     "start_time": "2021-02-20T22:32:11.475356Z"
    },
    "colab": {
     "background_save": true
    },
    "id": "SyZQqMzSScch"
   },
   "outputs": [
    {
     "name": "stderr",
     "output_type": "stream",
     "text": [
      "100%|███████████████████████████████████████████████████████████████████████████████████████████████| 100/100 [00:20<00:00,  5.00it/s]\n",
      "100%|███████████████████████████████████████████████████████████████████████████████████████████████| 100/100 [00:24<00:00,  4.14it/s]\n",
      "100%|███████████████████████████████████████████████████████████████████████████████████████████████| 100/100 [00:44<00:00,  2.25it/s]\n",
      "100%|███████████████████████████████████████████████████████████████████████████████████████████████| 100/100 [01:01<00:00,  1.62it/s]\n",
      "100%|███████████████████████████████████████████████████████████████████████████████████████████████| 100/100 [01:19<00:00,  1.27it/s]\n"
     ]
    },
    {
     "data": {
      "image/png": "[encoded data removed]",
      "text/plain": [
       "<Figure size 432x288 with 2 Axes>"
      ]
     },
     "metadata": {
      "needs_background": "light"
     },
     "output_type": "display_data"
    }
   ],
   "source": [
    "train_accs = []\n",
    "test_accs = []\n",
    "train_losses = []\n",
    "test_losses = []\n",
    "\n",
    "n_samples = [500, 1000, 2000, 3000, 4000]\n",
    "\n",
    "# Train model for different number of training samples\n",
    "for n in n_samples:\n",
    "\n",
    "    # Take subset of first n samples in training set\n",
    "    train_subset = torch.utils.data.Subset(train_set, range(n))\n",
    "    # Create new dataloader\n",
    "    train_loader = DataLoader(train_subset,batch_size=b_size)\n",
    "\n",
    "    # Create instance of Network\n",
    "    net = FCNet()\n",
    "\n",
    "    # Create loss function and optimizer\n",
    "    criterion = nn.CrossEntropyLoss()\n",
    "    optimizer = optim.SGD(net.parameters(), lr=5e-1)\n",
    "\n",
    "    # Set the number of epochs to for training\n",
    "    epochs = 100\n",
    "\n",
    "    for epoch in tqdm(range(epochs)):  # loop over the dataset multiple times\n",
    "        # Train on data\n",
    "        train_loss, train_acc = train(train_loader, net, optimizer, criterion)\n",
    "\n",
    "        # Test on data\n",
    "        test_loss, test_acc = test(test_loader, net, criterion)\n",
    "\n",
    "    # Store accuracies\n",
    "    train_accs.append(train_acc)\n",
    "    test_accs.append(test_acc)\n",
    "    train_losses.append(train_loss)\n",
    "    test_losses.append(test_loss)\n",
    "\n",
    "\n",
    "# Plot learning curve\n",
    "fig, ax = plt.subplots()\n",
    "plt.title('Learning curve')\n",
    "ln1 = ax.plot(n_samples, train_accs, color='red', marker='o', label='train acc.')\n",
    "ln2 = ax.plot(n_samples, test_accs, color='red', marker='o', linestyle='--', label='test acc.')\n",
    "ax.set_xlabel('training set size')\n",
    "ax.set_ylabel('accuracy', color='red')\n",
    "ax2 = ax.twinx()\n",
    "ln3 = ax2.plot(n_samples, train_losses, color='blue', marker='o', label='train loss')\n",
    "ln4 = ax2.plot(n_samples, test_losses, color='blue', marker='o', linestyle='--', label='test loss')\n",
    "ax2.set_ylabel('loss', color=\"blue\")\n",
    "lns = ln1+ln2+ln3+ln4\n",
    "labs = [l.get_label() for l in lns]\n",
    "ax.legend(lns, labs, loc=0)\n",
    "plt.show()"
   ]
  },
  {
   "cell_type": "markdown",
   "metadata": {
    "id": "TH4K8v0OF5y4"
   },
   "source": [
    "The figure shows that the larger the training set, the higher the test accuracy and the lower the test loss of the model become. The training accuracy and training loss are a constant 100% and ~0, respectively.\n",
    "\n",
    "To magnify the effect of the various regularization methods we will from now on use a reduced training set size of 500 samples."
   ]
  },
  {
   "cell_type": "code",
   "execution_count": 11,
   "metadata": {
    "ExecuteTime": {
     "end_time": "2021-02-20T22:37:40.974183Z",
     "start_time": "2021-02-20T22:37:40.963213Z"
    },
    "id": "DrZXKBV9LKwW"
   },
   "outputs": [],
   "source": [
    "# Take subset of first 500 samples in training set\n",
    "train_subset = torch.utils.data.Subset(train_set, range(500))\n",
    "# Create new dataloader\n",
    "train_loader = DataLoader(train_subset,batch_size=b_size)"
   ]
  },
  {
   "cell_type": "markdown",
   "metadata": {
    "id": "_4eiOQqYLbUe"
   },
   "source": [
    "We will train our model on this subset to get a baseline in Tensorboard to which we can compare our regularized models.\n",
    "\n",
    "Do not forget to hit refresh in the top right corner of Tensorboard to display the results. ![image.png](data:image/png;base64,iVBORw0KGgoAAAANSUhEUgAAABwAAAAaCAYAAACkVDyJAAABOElEQVRIDe2UsQ3CMBBFMwIjMAIbsBglJRI0dEgwCg2UwAZQQQkNpIgSox/pRx+Ls2OEIgosRXe2z/fy7bOz+yhzXX5ZlzCwfhf4mPRdsZm68rx3bPAxhjndqWK3eunrXCuFxXZGhmkBRmLA0BSifhRYXg4NBMny+aBJBp8ABFX5tYlViPpBIJVV+e0FpAngA+w3P4Z9E4hzYVNVXKhWVXKNzqtvAqkOVhf4/jsYoH4c+yaQZxdSZ8E+Asa2hn+cak2FnQPbbGmqOsSbCtsWjUJ5pqFCM4Ep1wJQvYv+U6c/ZQIRRJV4QULVijm+MiF1yBkEIoBniSIqdssG/Bj3XL4Y1mMssPK4Nu8fVUaBqpSJ39mYsiQggnEuSKqKq+upHgudGUG0rRQy+Bv2D4xWXeo2/7f061v6BP5uhjxw+N1/AAAAAElFTkSuQmCC)"
   ]
  },
  {
   "cell_type": "code",
   "execution_count": 12,
   "metadata": {
    "ExecuteTime": {
     "end_time": "2021-02-20T22:38:33.689489Z",
     "start_time": "2021-02-20T22:38:15.943263Z"
    },
    "id": "ujNNTMdFNbEd"
   },
   "outputs": [
    {
     "name": "stderr",
     "output_type": "stream",
     "text": [
      "100%|███████████████████████████████████████████████████████████████████████████████████████████████| 100/100 [00:17<00:00,  5.71it/s]"
     ]
    },
    {
     "name": "stdout",
     "output_type": "stream",
     "text": [
      "Finished Training\n"
     ]
    },
    {
     "name": "stderr",
     "output_type": "stream",
     "text": [
      "\n"
     ]
    }
   ],
   "source": [
    "# Create a writer to write to tensorboard\n",
    "writer = SummaryWriter()\n",
    "\n",
    "# Create instance of Network\n",
    "net = FCNet()\n",
    "\n",
    "# Create loss function and optimizer\n",
    "criterion = nn.CrossEntropyLoss()\n",
    "optimizer = optim.SGD(net.parameters(), lr=5e-1)\n",
    "\n",
    "# Set the number of epochs to for training\n",
    "epochs = 100\n",
    "\n",
    "for epoch in tqdm(range(epochs)):  # loop over the dataset multiple times\n",
    "    # Train on data\n",
    "    train_loss, train_acc = train(train_loader,net,optimizer,criterion)\n",
    "\n",
    "    # Test on data\n",
    "    test_loss, test_acc = test(test_loader,net,criterion)\n",
    "\n",
    "    writer.add_scalars(\"Loss\", {'Train': train_loss, 'Test':test_loss}, epoch)            \n",
    "    writer.add_scalars('Accuracy',{'Train': train_acc,'Test':test_acc} , epoch)\n",
    "\n",
    "\n",
    "print('Finished Training')\n",
    "writer.flush()\n",
    "writer.close()"
   ]
  },
  {
   "cell_type": "markdown",
   "metadata": {
    "id": "WzNt1QNsqbpf"
   },
   "source": [
    "You will see that the training loss will continuously decrease, whereas the test loss will start to increase again at some point. Like the plateauing test accuracy, an increasing test loss is another indication of overfitting."
   ]
  },
  {
   "cell_type": "markdown",
   "metadata": {
    "id": "HDM4uIkWNybv"
   },
   "source": [
    "## A4.3 L2 Regularization\n",
    "\n",
    "If our neural network is able to learn such a complex decision boundary that it completely overfits on the training set, we would perhaps like to reduce its expressive power. An obvious way would be to reduce the number of parameters in our model, but that does not allow for much flexibility. Instead, we would rather have our model to prefer simpler decision boundaries without putting a hard limit on its expressivity. This is where L2 regularization comes into play:\n",
    "$$\\mathcal{L} = \\mathcal{L}_0 + \\frac{\\lambda}{2}\\sum_w w^2 $$\n",
    "Here, the total loss $\\mathcal{L}$ consists of the original task-specific loss $\\mathcal{L}_0$, e.g. cross-entropy, and the sum of the squared value of all network parameters $w$ (weights and biases), where $\\lambda$ specifies the relative weight of the two components. $\\lambda$ is a so-called hyper-parameter which needs to be specified before training, similar to the `epochs` parameter. This loss function thus encourages the network to learn small parameters, i.e. it minimizes the L2 norm of the parameters.\n",
    "\n",
    "It might not be directly clear why this would solve our overfitting problem - an intuitive explanation is that the output of a neural network with small weights is not very susceptible to small changes in the input and therefore its recision boundary is relatively smooth. For further reading and a very nice example we'd like to refer to [this excellent online book](http://neuralnetworksanddeeplearning.com/chap3.html#why_does_regularization_help_reduce_overfitting).\n",
    "\n",
    "We will now implement L2 normalization in our training loop. For this we will need to add the extra regularization term to our loss function. We provide you with some hints as to how to do this."
   ]
  },
  {
   "cell_type": "code",
   "execution_count": 27,
   "metadata": {
    "ExecuteTime": {
     "end_time": "2021-02-20T22:48:14.147914Z",
     "start_time": "2021-02-20T22:48:14.121781Z"
    }
   },
   "outputs": [
    {
     "ename": "ModuleAttributeError",
     "evalue": "'FCNet' object has no attribute 'layers'",
     "output_type": "error",
     "traceback": [
      "\u001b[1;31m---------------------------------------------------------------------------\u001b[0m",
      "\u001b[1;31mModuleAttributeError\u001b[0m                      Traceback (most recent call last)",
      "\u001b[1;32m<ipython-input-27-e375a2e5db49>\u001b[0m in \u001b[0;36m<module>\u001b[1;34m\u001b[0m\n\u001b[1;32m----> 1\u001b[1;33m \u001b[0mnet\u001b[0m\u001b[1;33m.\u001b[0m\u001b[0mlayers\u001b[0m\u001b[1;33m\u001b[0m\u001b[1;33m\u001b[0m\u001b[0m\n\u001b[0m",
      "\u001b[1;32m~\\anaconda3\\lib\\site-packages\\torch\\nn\\modules\\module.py\u001b[0m in \u001b[0;36m__getattr__\u001b[1;34m(self, name)\u001b[0m\n\u001b[0;32m    776\u001b[0m             \u001b[1;32mif\u001b[0m \u001b[0mname\u001b[0m \u001b[1;32min\u001b[0m \u001b[0mmodules\u001b[0m\u001b[1;33m:\u001b[0m\u001b[1;33m\u001b[0m\u001b[1;33m\u001b[0m\u001b[0m\n\u001b[0;32m    777\u001b[0m                 \u001b[1;32mreturn\u001b[0m \u001b[0mmodules\u001b[0m\u001b[1;33m[\u001b[0m\u001b[0mname\u001b[0m\u001b[1;33m]\u001b[0m\u001b[1;33m\u001b[0m\u001b[1;33m\u001b[0m\u001b[0m\n\u001b[1;32m--> 778\u001b[1;33m         raise ModuleAttributeError(\"'{}' object has no attribute '{}'\".format(\n\u001b[0m\u001b[0;32m    779\u001b[0m             type(self).__name__, name))\n\u001b[0;32m    780\u001b[0m \u001b[1;33m\u001b[0m\u001b[0m\n",
      "\u001b[1;31mModuleAttributeError\u001b[0m: 'FCNet' object has no attribute 'layers'"
     ]
    }
   ],
   "source": [
    "net.layers"
   ]
  },
  {
   "cell_type": "code",
   "execution_count": 48,
   "metadata": {
    "ExecuteTime": {
     "end_time": "2021-02-20T23:00:55.825588Z",
     "start_time": "2021-02-20T23:00:55.812623Z"
    }
   },
   "outputs": [
    {
     "data": {
      "text/plain": [
       "190.17963"
      ]
     },
     "execution_count": 48,
     "metadata": {},
     "output_type": "execute_result"
    }
   ],
   "source": [
    "l=[]\n",
    "for p in net.parameters():\n",
    "    l.append(p.detach().numpy())\n",
    "np.sum(np.square(l[0]))"
   ]
  },
  {
   "cell_type": "code",
   "execution_count": 49,
   "metadata": {
    "ExecuteTime": {
     "end_time": "2021-02-20T23:03:22.369557Z",
     "start_time": "2021-02-20T23:03:22.353640Z"
    },
    "id": "KBCSrI8SNq6M"
   },
   "outputs": [],
   "source": [
    "def train_wd(train_loader, net, optimizer, criterion, wd):\n",
    "    \"\"\"\n",
    "    Trains network for one epoch in batches.\n",
    "    Uses custom L2 regularization in loss function.\n",
    "\n",
    "    Args:\n",
    "        train_loader: Data loader for training set.\n",
    "        net: Neural network model.\n",
    "        optimizer: Optimizer (e.g. SGD).\n",
    "        criterion: Loss function (e.g. cross-entropy loss).\n",
    "        wd: Weight decay (L2 penalty)\n",
    "    \"\"\"\n",
    "  \n",
    "    avg_loss = 0\n",
    "    correct = 0\n",
    "    total = 0\n",
    "\n",
    "    # iterate through batches\n",
    "    for i, data in enumerate(train_loader):\n",
    "        # get the inputs; data is a list of [inputs, labels]\n",
    "        inputs, labels = data\n",
    "\n",
    "        # zero the parameter gradients\n",
    "        optimizer.zero_grad()\n",
    "\n",
    "        # forward\n",
    "        outputs = net(inputs)\n",
    "        loss = criterion(outputs, labels)\n",
    "\n",
    "        ########################################################################\n",
    "        #           TODO: Add L2 regularization to loss function.              #\n",
    "        # The total loss becomes: loss = loss + 0.5*wd*l2, where l2 is the sum #\n",
    "        #  of the squared value of all parameters and wd the relative weight   #\n",
    "        #  of the L2 penalty. Hint: loop through the network parameters using  #\n",
    "        #                    'for p in net.parameters():'.                     #\n",
    "        ########################################################################\n",
    "\n",
    "        reg = [p.detach().numpy() for p in net.parameters()]\n",
    "        reg = [np.sum(np.square(p)) for p in range(0, len(reg), 2)]\n",
    "        loss = loss + (wd * sum(reg))/2\n",
    "\n",
    "        ########################################################################\n",
    "        #                          END OF YOUR CODE                            #\n",
    "        ########################################################################\n",
    "\n",
    "        # backward + optimize\n",
    "        loss.backward()\n",
    "        optimizer.step()\n",
    "\n",
    "        # keep track of loss and accuracy\n",
    "        avg_loss += loss\n",
    "        _, predicted = torch.max(outputs.data, 1)\n",
    "        total += labels.size(0)\n",
    "        correct += (predicted == labels).sum().item()\n",
    "\n",
    "    return avg_loss/len(train_loader), 100 * correct / total"
   ]
  },
  {
   "cell_type": "markdown",
   "metadata": {
    "id": "QPkjD_14oEWM"
   },
   "source": [
    "Now again train the network on the small training subset of MNIST-1D and compare the training curves with those of the baseline. ![image.png](data:image/png;base64,iVBORw0KGgoAAAANSUhEUgAAABwAAAAaCAYAAACkVDyJAAABOElEQVRIDe2UsQ3CMBBFMwIjMAIbsBglJRI0dEgwCg2UwAZQQQkNpIgSox/pRx+Ls2OEIgosRXe2z/fy7bOz+yhzXX5ZlzCwfhf4mPRdsZm68rx3bPAxhjndqWK3eunrXCuFxXZGhmkBRmLA0BSifhRYXg4NBMny+aBJBp8ABFX5tYlViPpBIJVV+e0FpAngA+w3P4Z9E4hzYVNVXKhWVXKNzqtvAqkOVhf4/jsYoH4c+yaQZxdSZ8E+Asa2hn+cak2FnQPbbGmqOsSbCtsWjUJ5pqFCM4Ep1wJQvYv+U6c/ZQIRRJV4QULVijm+MiF1yBkEIoBniSIqdssG/Bj3XL4Y1mMssPK4Nu8fVUaBqpSJ39mYsiQggnEuSKqKq+upHgudGUG0rRQy+Bv2D4xWXeo2/7f061v6BP5uhjxw+N1/AAAAAElFTkSuQmCC)\n",
    "\n",
    "If your implementation is correct the test loss will not increase as much anymore, indicating that the network is overfitting less on the training set. Likewise, the test accuracy should be higher for the regularized model. (However, due to the random nature of training deep neural networks this might not always be the case. Try training the model multiple times.)"
   ]
  },
  {
   "cell_type": "code",
   "execution_count": 50,
   "metadata": {
    "ExecuteTime": {
     "end_time": "2021-02-20T23:03:44.365893Z",
     "start_time": "2021-02-20T23:03:24.546559Z"
    },
    "id": "5rK2foVjUVZQ"
   },
   "outputs": [
    {
     "name": "stderr",
     "output_type": "stream",
     "text": [
      "100%|███████████████████████████████████████████████████████████████████████████████████████████████| 100/100 [00:19<00:00,  5.09it/s]"
     ]
    },
    {
     "name": "stdout",
     "output_type": "stream",
     "text": [
      "Finished Training\n"
     ]
    },
    {
     "name": "stderr",
     "output_type": "stream",
     "text": [
      "\n"
     ]
    }
   ],
   "source": [
    "# Create a writer to write to tensorboard\n",
    "writer = SummaryWriter()\n",
    "\n",
    "# Create instance of Network\n",
    "net = FCNet()\n",
    "\n",
    "# Create loss function and optimizer\n",
    "criterion = nn.CrossEntropyLoss()\n",
    "optimizer = optim.SGD(net.parameters(), lr=5e-1)\n",
    "\n",
    "# Set the number of epochs to for training\n",
    "epochs = 100\n",
    "# Set weighing factor for L2 regularization\n",
    "wd = 3e-3\n",
    "\n",
    "for epoch in tqdm(range(epochs)):  # loop over the dataset multiple times\n",
    "    # Train on data\n",
    "    train_loss, train_acc = train_wd(train_loader,net,optimizer,criterion,wd)\n",
    "\n",
    "    # Test on data\n",
    "    test_loss, test_acc = test(test_loader,net,criterion)\n",
    "\n",
    "    writer.add_scalars('Loss', {'Train': train_loss, 'Test':test_loss}, epoch)            \n",
    "    writer.add_scalars('Accuracy',{'Train': train_acc,'Test':test_acc} , epoch)\n",
    "\n",
    "\n",
    "print('Finished Training')\n",
    "writer.flush()\n",
    "writer.close()"
   ]
  },
  {
   "cell_type": "markdown",
   "metadata": {
    "id": "V14N5iVcrAfj"
   },
   "source": [
    "In PyTorch, *weight decay*, which is simply another name for L2 regularization, is very conveniently built into the SGD optimizer. Have a look at the [docs](https://pytorch.org/docs/stable/optim.html#torch.optim.SGD) and initialize the optimizer with the proper settings to train the network using the PyTorch built-in weight decay functionality. Again have a look at the loss curves in Tensorboard - you should see the same effect as with our own L2 regularization above."
   ]
  },
  {
   "cell_type": "code",
   "execution_count": 52,
   "metadata": {
    "ExecuteTime": {
     "end_time": "2021-02-20T23:17:01.470751Z",
     "start_time": "2021-02-20T23:16:41.748091Z"
    },
    "id": "BBApWFhUxa6p"
   },
   "outputs": [
    {
     "name": "stderr",
     "output_type": "stream",
     "text": [
      "100%|███████████████████████████████████████████████████████████████████████████████████████████████| 100/100 [00:19<00:00,  5.12it/s]"
     ]
    },
    {
     "name": "stdout",
     "output_type": "stream",
     "text": [
      "Finished Training\n"
     ]
    },
    {
     "name": "stderr",
     "output_type": "stream",
     "text": [
      "\n"
     ]
    }
   ],
   "source": [
    "#Create a writer to write to tensorboard\n",
    "writer = SummaryWriter()\n",
    "\n",
    "# Create instance of Network\n",
    "net = FCNet()\n",
    "\n",
    "# Create loss function and optimizer\n",
    "criterion = nn.CrossEntropyLoss()\n",
    "\n",
    "########################################################################\n",
    "#            TODO: Add L2 regularization the PyTorch way.              #\n",
    "########################################################################\n",
    "\n",
    "loss = optim.SGD(net.parameters(), lr = 5e-1, weight_decay=3e-3)\n",
    "\n",
    "########################################################################\n",
    "#                          END OF YOUR CODE                            #\n",
    "########################################################################\n",
    "\n",
    "#Set the number of epochs to for training\n",
    "epochs = 100\n",
    "\n",
    "for epoch in tqdm(range(epochs)):  # loop over the dataset multiple times\n",
    "    # Train on data\n",
    "    train_loss, train_acc = train(train_loader,net,optimizer,criterion)\n",
    "\n",
    "    # Test on data\n",
    "    test_loss, test_acc = test(test_loader,net,criterion)\n",
    "\n",
    "    writer.add_scalars(\"Loss\", {'Train': train_loss, 'Test':test_loss}, epoch)            \n",
    "    writer.add_scalars('Accuracy',{'Train': train_acc,'Test':test_acc} , epoch)\n",
    "\n",
    "\n",
    "print('Finished Training')\n",
    "writer.flush()\n",
    "writer.close()"
   ]
  },
  {
   "cell_type": "markdown",
   "metadata": {
    "id": "PZT7cB_CVYL6"
   },
   "source": [
    "## A4.4 Early stopping\n",
    "\n",
    "Instead of training a neural network for a fixed amount of epochs we can choose to halt training when the network starts to overfit on the training data. This is called **early stopping**.\n",
    "\n",
    "For early stopping we continuously monitor the performance of the model on a separate *validation set* and stop when a certain metric, e.g. the accuracy, no longer improves. In practice this metric will not improve monotonously but will go up and down due to the stochastic nature of deep neural network training. Therefore often a certain *patience* is used, i.e. training is halted after the metric has not improved for a certain number of epochs. The patience is a hyper-parameter to be specified before training.\n",
    "\n",
    "You might wonder why we need a separate validation test and do not simply use the test set to monitor the network performance. In general we always use a separate validation set for monitoring network performance and tuning hyper-parameters because we do not want to overfit these settings to the specifities of our test set. This way the performance on the test set remains a true measure of how well our model generalizes.\n",
    "\n",
    "Let us start by making the validation set. Since we are only using the first 500 samples of the training set, we can use samples 500-1500 for validation."
   ]
  },
  {
   "cell_type": "code",
   "execution_count": 53,
   "metadata": {
    "ExecuteTime": {
     "end_time": "2021-02-20T23:53:13.339398Z",
     "start_time": "2021-02-20T23:53:13.333413Z"
    },
    "id": "SKhkuoakurQi"
   },
   "outputs": [],
   "source": [
    "# Make validation set - take samples 500-1500 from training set for convenience\n",
    "val_set = torch.utils.data.Subset(train_set, range(500,1500))\n",
    "# Create new dataloader\n",
    "val_loader = DataLoader(val_set,batch_size=b_size)"
   ]
  },
  {
   "cell_type": "markdown",
   "metadata": {
    "id": "Y1MiKvif8_VE"
   },
   "source": [
    "You will now implement early stopping in the training loop. In short, the pseudo code for early stopping can be written as:\n",
    "```python\n",
    "for i in range(epochs):\n",
    "    train(model)\n",
    "    metric = validate(model)\n",
    "    if metric > metric_best:\n",
    "        metric_best = metric\n",
    "        reset patience_counter\n",
    "    else:\n",
    "        increment patience_counter\n",
    "        if patience_counter == patience:\n",
    "            halt training\n",
    "```\n",
    "\n",
    "What value for the `patience` parameter works best?"
   ]
  },
  {
   "cell_type": "code",
   "execution_count": 59,
   "metadata": {
    "ExecuteTime": {
     "end_time": "2021-02-21T00:04:12.959127Z",
     "start_time": "2021-02-21T00:03:55.355017Z"
    },
    "id": "2Z-7Ph5XuAnW"
   },
   "outputs": [
    {
     "name": "stderr",
     "output_type": "stream",
     "text": [
      " 95%|███████████████████████████████████████████████████████████████████████████████████████████▏    | 95/100 [00:17<00:00,  5.48it/s]\n"
     ]
    },
    {
     "name": "stdout",
     "output_type": "stream",
     "text": [
      "Finished Training\n",
      "Validation accuracy:\t40.00\n",
      "Test accuracy:\t\t41.50\n"
     ]
    }
   ],
   "source": [
    "# Create a writer to write to tensorboard\n",
    "writer = SummaryWriter()\n",
    "\n",
    "# Create instance of Network\n",
    "net = FCNet()\n",
    "\n",
    "# Create loss function and optimizer\n",
    "criterion = nn.CrossEntropyLoss()\n",
    "optimizer = optim.SGD(net.parameters(), lr=5e-1, weight_decay=3e-3)\n",
    "\n",
    "# Set the number of epochs to for training\n",
    "epochs = 100\n",
    "\n",
    "# Patience - how many epochs to keep training after accuracy has not improved\n",
    "patience = 20\n",
    "\n",
    "# Initialize early stopping variables\n",
    "val_acc_best = 0\n",
    "patience_cnt = 0\n",
    "\n",
    "for epoch in tqdm(range(epochs)):  # loop over the dataset multiple times\n",
    "    # Train on data\n",
    "    train_loss, train_acc = train(train_loader,net,optimizer,criterion)\n",
    "\n",
    "    # Test on validation set\n",
    "    val_loss, val_acc = test(val_loader,net,criterion)\n",
    "\n",
    "    writer.add_scalars(\"Loss\", {'Train': train_loss, 'Val': val_loss}, epoch)            \n",
    "    writer.add_scalars('Accuracy', {'Train': train_acc, 'Val': val_acc}, epoch)\n",
    "\n",
    "    ########################################################################\n",
    "    #                   TODO: Implement early stopping.                    #\n",
    "    #         Hint: use 'break' to break out of the training loop.         #\n",
    "    ########################################################################\n",
    "\n",
    "    if val_acc > val_acc_best:\n",
    "        val_acc_best = val_acc\n",
    "        patience_counter = 0\n",
    "    else:\n",
    "        patience_counter +=1\n",
    "        if patience_counter == patience:\n",
    "            break\n",
    "\n",
    "    ########################################################################\n",
    "    #                          END OF YOUR CODE                            #\n",
    "    ########################################################################\n",
    "\n",
    "# Test on test set\n",
    "test_loss, test_acc = test(test_loader,net,criterion)\n",
    "\n",
    "print('Finished Training')\n",
    "print('Validation accuracy:\\t{:.2f}'.format(val_acc))\n",
    "print('Test accuracy:\\t\\t{:.2f}'.format(test_acc))\n",
    "writer.flush()\n",
    "writer.close()"
   ]
  },
  {
   "cell_type": "markdown",
   "metadata": {
    "id": "W9nhiFVEHbVY"
   },
   "source": [
    "## A4.5 Dropout\n",
    "\n",
    "Dropout is a regularization method that modifies the network architecture itself rather than the way the network is optimized. A Dropout layer deactivates a random fraction $p$ of the neurons in a layer during a training iterations by setting them to zero. After performing the forward and backward pass for the current iteration, a different set of neurons is deactivated.\n",
    "\n",
    "There are different explanations for the regularizing effect of Dropout, most popularly:\n",
    "* When deactivating a different set of neurons in eacht training iteration, it is like we are training many different models. The final model, where all neurons are active, will then act as a model ensamble. \n",
    "* A related explanation is that a neuron becomes less reliant on the presence of other specific neurons and is therefore forced to learn a robust feature that works with many different sets of neurons. This can be seen as noise injection, which makes the neurons more robust to small peturbations in the input and in that sense makes it somewhat similar to L2 regularization.\n",
    "\n",
    "Dropout is very easy to use in PyTorch. Have a look at the [related documentation](https://pytorch.org/docs/stable/generated/torch.nn.Dropout.html) and implement some Dropout layers in our model. Does it really improve model performance?"
   ]
  },
  {
   "cell_type": "code",
   "execution_count": 62,
   "metadata": {
    "ExecuteTime": {
     "end_time": "2021-02-21T00:07:23.443594Z",
     "start_time": "2021-02-21T00:07:23.422597Z"
    },
    "id": "q0ontWUwHe5V"
   },
   "outputs": [],
   "source": [
    "class FCNet_do(nn.Module):\n",
    "    \"\"\"\n",
    "    Simple fully connected neural network with residual connections and dropout\n",
    "    layers in PyTorch. Layers are defined in __init__ and forward pass\n",
    "    implemented in forward.\n",
    "    \n",
    "    \"\"\"\n",
    "    \n",
    "    def __init__(self):\n",
    "        super(FCNet_do, self).__init__()\n",
    "\n",
    "        self.fc1 = nn.Linear(40, 500)\n",
    "        self.fc2 = nn.Linear(500, 500)\n",
    "        self.fc3 = nn.Linear(500, 500)\n",
    "        self.fc4 = nn.Linear(500, 500)\n",
    "        self.fc5 = nn.Linear(500, 500)\n",
    "        self.fc6 = nn.Linear(500, 10)\n",
    "\n",
    "        ########################################################################\n",
    "        #                     TODO: Define dropout layers.                     #\n",
    "        ########################################################################\n",
    "        \n",
    "        self.drp = nn.Dropout(p = 0.2)\n",
    "\n",
    "\n",
    "        ########################################################################\n",
    "        #                          END OF YOUR CODE                            #\n",
    "        ########################################################################\n",
    "\n",
    "    def forward(self, x):\n",
    "\n",
    "        ########################################################################\n",
    "        #         TODO: Modify forward pass to include dropout layers.         #\n",
    "        ########################################################################\n",
    "\n",
    "        h = self.drp(x)\n",
    "        h = F.relu(self.fc1(h))\n",
    "        h = h + F.relu(self.fc2(h))\n",
    "        h = h + F.relu(self.fc3(h))\n",
    "        h = h + F.relu(self.fc4(h))\n",
    "        h = h + F.relu(self.fc5(h))\n",
    "\n",
    "        ########################################################################\n",
    "        #                          END OF YOUR CODE                            #\n",
    "        ########################################################################\n",
    "        \n",
    "        return self.fc6(h)"
   ]
  },
  {
   "cell_type": "code",
   "execution_count": 63,
   "metadata": {
    "ExecuteTime": {
     "end_time": "2021-02-21T00:07:42.369586Z",
     "start_time": "2021-02-21T00:07:24.025357Z"
    },
    "id": "aAPlLrHqHe-w"
   },
   "outputs": [
    {
     "name": "stderr",
     "output_type": "stream",
     "text": [
      "100%|███████████████████████████████████████████████████████████████████████████████████████████████| 100/100 [00:18<00:00,  5.52it/s]\n"
     ]
    },
    {
     "name": "stdout",
     "output_type": "stream",
     "text": [
      "Finished Training\n"
     ]
    }
   ],
   "source": [
    "# Create a writer to write to tensorboard\n",
    "writer = SummaryWriter()\n",
    "\n",
    "# Create instance of Network\n",
    "net = FCNet_do()\n",
    "\n",
    "# Create loss function and optimizer\n",
    "criterion = nn.CrossEntropyLoss()\n",
    "optimizer = optim.SGD(net.parameters(), lr=5e-1, weight_decay=3e-3)\n",
    "\n",
    "#Set the number of epochs to for training\n",
    "epochs = 100\n",
    "\n",
    "for epoch in tqdm(range(epochs)):  # loop over the dataset multiple times\n",
    "    # Train on data\n",
    "    train_loss, train_acc = train(train_loader,net,optimizer,criterion)\n",
    "\n",
    "    # Test on data\n",
    "    test_loss, test_acc = test(test_loader,net,criterion)\n",
    "\n",
    "    writer.add_scalars(\"Loss\", {'Train': train_loss, 'Test': test_loss}, epoch)            \n",
    "    writer.add_scalars('Accuracy', {'Train': train_acc, 'Test': test_acc}, epoch)\n",
    "\n",
    "print('Finished Training')\n",
    "writer.flush()\n",
    "writer.close()"
   ]
  },
  {
   "cell_type": "code",
   "execution_count": 64,
   "metadata": {
    "ExecuteTime": {
     "end_time": "2021-02-21T00:08:16.598144Z",
     "start_time": "2021-02-21T00:08:16.580202Z"
    }
   },
   "outputs": [
    {
     "data": {
      "text/plain": [
       "93.0"
      ]
     },
     "execution_count": 64,
     "metadata": {},
     "output_type": "execute_result"
    }
   ],
   "source": [
    "train_acc"
   ]
  },
  {
   "cell_type": "code",
   "execution_count": 66,
   "metadata": {
    "ExecuteTime": {
     "end_time": "2021-02-21T00:08:25.631533Z",
     "start_time": "2021-02-21T00:08:25.620563Z"
    }
   },
   "outputs": [
    {
     "data": {
      "text/plain": [
       "33.7"
      ]
     },
     "execution_count": 66,
     "metadata": {},
     "output_type": "execute_result"
    }
   ],
   "source": [
    "test_acc"
   ]
  },
  {
   "cell_type": "markdown",
   "metadata": {
    "id": "3s7CgSEQMf4l"
   },
   "source": [
    "## A note on data augmentation\n",
    "\n",
    "We have so far not considered the best way to prevent the model from overfittin: extending the size of the training set. In practice of course data is expensive and thus it might not always be feasible to collect and annotate new samples. Augmenting existing data samples with simple transformations is often used to artificially generate more samples. Examples for image data include random changes to the brightness, contrast, hue, rotation, random flips, affine transformations, etcetera. Lots of these transformations are conveniently implemented in the `torchvision.transforms` package. See the [[docs](https://pytorch.org/docs/stable/torchvision/transforms.html)] for more information.\n",
    "\n",
    "This concludes assignment 4."
   ]
  }
 ],
 "metadata": {
  "accelerator": "GPU",
  "colab": {
   "collapsed_sections": [],
   "name": "Assignment_4.ipynb",
   "provenance": [],
   "toc_visible": true
  },
  "hide_input": false,
  "kernelspec": {
   "display_name": "Python 3",
   "language": "python",
   "name": "python3"
  },
  "language_info": {
   "codemirror_mode": {
    "name": "ipython",
    "version": 3
   },
   "file_extension": ".py",
   "mimetype": "text/x-python",
   "name": "python",
   "nbconvert_exporter": "python",
   "pygments_lexer": "ipython3",
   "version": "3.8.5"
  },
  "toc": {
   "base_numbering": 1,
   "nav_menu": {},
   "number_sections": true,
   "sideBar": true,
   "skip_h1_title": false,
   "title_cell": "Table of Contents",
   "title_sidebar": "Contents",
   "toc_cell": false,
   "toc_position": {},
   "toc_section_display": true,
   "toc_window_display": false
  }
 },
 "nbformat": 4,
 "nbformat_minor": 1
}
